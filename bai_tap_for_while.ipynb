{
 "cells": [
  {
   "cell_type": "code",
   "execution_count": 10,
   "metadata": {},
   "outputs": [
    {
     "name": "stdout",
     "output_type": "stream",
     "text": [
      "12 15 18 21 24 27 30 33 36 39 42 45 48 "
     ]
    }
   ],
   "source": [
    "# Tìm những số chia hết cho 3 từ 10 đến 50(dùng for và continue)\n",
    "\"\"\"for n in range (10,51,1):\n",
    "    if n % 3 == 0:\n",
    "        print(n,end=\" \")\"\"\"\n",
    "\n",
    "#dùng continue\n",
    "for n in range (10,51,1):\n",
    "    if n % 3 != 0:\n",
    "        continue\n",
    "    print(n,end=\" \")\n"
   ]
  },
  {
   "cell_type": "code",
   "execution_count": 12,
   "metadata": {},
   "outputs": [
    {
     "name": "stdout",
     "output_type": "stream",
     "text": [
      "4037913\n"
     ]
    }
   ],
   "source": [
    "#Tính tổng s = 1!+2!+3!+...+10! (dùng for)\n",
    "m = 1 \n",
    "tong = 0\n",
    "for n in range (1,11):\n",
    "    m = n * m\n",
    "    tong += m\n",
    "print(tong)"
   ]
  },
  {
   "cell_type": "code",
   "execution_count": null,
   "metadata": {},
   "outputs": [],
   "source": [
    "# Số hoàn thiện (hay còn gọi là số hoàn chỉnh, số hoàn hảo hoặc hoàn thành) là một số nguyên dương mà tổng các ước nguyên dương chính của nó (số nguyên dương bị nó chia hết ngoại trừ nó) bằng chính nó. Tìm tất cả số hoàn thiện trong phạm vi từ 1 tới 1000.\n"
   ]
  },
  {
   "cell_type": "code",
   "execution_count": null,
   "metadata": {},
   "outputs": [],
   "source": [
    "#Tính tổng s(x,n) = x + (X^2/2!) + ... + (x^n /n!) dùng for"
   ]
  },
  {
   "cell_type": "code",
   "execution_count": null,
   "metadata": {},
   "outputs": [],
   "source": [
    "#Nhập vào 1 số, cho biết số đó có phải số nguyên tố (số nguyên tố là số > 0, và chia hết cho 1 và chính nó)\n",
    "#Kết thúc chương trình hỏi người dùng Bạn có muốn tiếp tục sử dụng phần mềm không?\n",
    "#Nếu chọn không thì thoát chương trình "
   ]
  },
  {
   "cell_type": "code",
   "execution_count": null,
   "metadata": {},
   "outputs": [],
   "source": [
    "# Năm 2017 dân số VN 95.5tr người. Trung bình 1 năm tăng 1.2%. Hỏi sau bao nhiêu năm thì dân số tăng lên 150tr. (dùng while True)"
   ]
  },
  {
   "cell_type": "code",
   "execution_count": null,
   "metadata": {},
   "outputs": [],
   "source": [
    "# 1 người vay 400tr. Lãi năm đầu 0%, lãi năm 2 trở đi là 10%. Mỗi tháng trả 10tr thì bao giờ hết nợ (while True)\n",
    "# ghi chú: có thể dùng hàm khác gợi ý miễn sao có kết quả "
   ]
  }
 ],
 "metadata": {
  "kernelspec": {
   "display_name": "Python 3",
   "language": "python",
   "name": "python3"
  },
  "language_info": {
   "codemirror_mode": {
    "name": "ipython",
    "version": 3
   },
   "file_extension": ".py",
   "mimetype": "text/x-python",
   "name": "python",
   "nbconvert_exporter": "python",
   "pygments_lexer": "ipython3",
   "version": "3.10.7"
  },
  "orig_nbformat": 4
 },
 "nbformat": 4,
 "nbformat_minor": 2
}
