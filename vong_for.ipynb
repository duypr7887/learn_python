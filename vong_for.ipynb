{
 "cells": [
  {
   "cell_type": "code",
   "execution_count": 4,
   "metadata": {},
   "outputs": [
    {
     "name": "stdout",
     "output_type": "stream",
     "text": [
      "1\n",
      "2\n",
      "3\n",
      "4\n",
      "5\n",
      "6\n",
      "Tổng a là: 25\n"
     ]
    }
   ],
   "source": [
    "#for - else\n",
    "# Nhập số a từ bàn phím.\n",
    "# 1. Nếu a chẳn thì tính tổng a + 1 + 2 + 3 + 4 + 5\n",
    "# 2. Nếu a lẻ thì in ra dòng chữ \"Tôi ko tính tổng số lẻ\" và thoát chương trình\n",
    "\n",
    "a = int(input(\"Nhập vào số a: \"))\n",
    "n = int(input('Nhập vào số n: '))\n",
    "if a % 2 == 0:\n",
    "    for i in range (1,n+1,1):\n",
    "        print(i)\n",
    "        a = a + i\n",
    "    print(f\"Tổng a là: {a}\")\n",
    "else:\n",
    "    print(\"Tôi ko tính tổng số lẻ\")\n",
    "  \n"
   ]
  },
  {
   "cell_type": "code",
   "execution_count": 13,
   "metadata": {},
   "outputs": [
    {
     "name": "stdout",
     "output_type": "stream",
     "text": [
      "1\n"
     ]
    }
   ],
   "source": [
    "#for - continue, break\n",
    "# Tính tổng các số lẻ từ 1 đến n, (ngầm hiểu n >= 5) nhập từ bàn phím:\n",
    "# 1. Bỏ qua 0 tổng cho cộng với 3\n",
    "# 2. Thử break khi vòng for chạy đến 3\n",
    "sum = 0\n",
    "for n in range(1,6,2):\n",
    "    if n == 3:\n",
    "       break\n",
    "       #continue\n",
    "    sum = sum + n #viết tắt sum+=n\n",
    "print(sum)\n"
   ]
  }
 ],
 "metadata": {
  "kernelspec": {
   "display_name": "Python 3",
   "language": "python",
   "name": "python3"
  },
  "language_info": {
   "codemirror_mode": {
    "name": "ipython",
    "version": 3
   },
   "file_extension": ".py",
   "mimetype": "text/x-python",
   "name": "python",
   "nbconvert_exporter": "python",
   "pygments_lexer": "ipython3",
   "version": "3.10.7"
  },
  "orig_nbformat": 4
 },
 "nbformat": 4,
 "nbformat_minor": 2
}
