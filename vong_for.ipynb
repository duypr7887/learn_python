{
 "cells": [
  {
   "cell_type": "code",
   "execution_count": 7,
   "metadata": {},
   "outputs": [
    {
     "name": "stdout",
     "output_type": "stream",
     "text": [
      "Tôi không tính số lẻ\n"
     ]
    }
   ],
   "source": [
    "#for - else\n",
    "# Nhập số a từ bàn phím.\n",
    "# 1. Nếu a chẳn thì tính tổng a + 1 + 2 + 3 + 4 + 5\n",
    "# 2. Nếu a lẻ thì in ra dòng chữ \"Tôi ko tính tổng số lẻ\" và thoát chương trình\n",
    "\n",
    "a = int(input(\"Nhập vào 1 số a: \"))\n",
    "if a % 2 == 0:\n",
    "    for i in range (1,6):\n",
    "        a+=i\n",
    "    print(f'Tổng số a là: {a}')\n",
    "else:\n",
    "    print('Tôi không tính số lẻ')\n"
   ]
  },
  {
   "cell_type": "code",
   "execution_count": 14,
   "metadata": {},
   "outputs": [
    {
     "name": "stdout",
     "output_type": "stream",
     "text": [
      "1\n"
     ]
    }
   ],
   "source": [
    "#for - continue, break\n",
    "# Tính tổng các số lẻ từ 1 đến n, (ngầm hiểu n >= 5) nhập từ bàn phím:\n",
    "# 1. Bỏ qua 0 tổng cho cộng với 3\n",
    "# 2. Thử break khi vòng for chạy đến 3\n",
    "sum = 0\n",
    "for i in range (1,6,2):\n",
    "    if i == 3:\n",
    "        break\n",
    "    sum = sum + i\n",
    "print(sum)"
   ]
  }
 ],
 "metadata": {
  "kernelspec": {
   "display_name": "Python 3",
   "language": "python",
   "name": "python3"
  },
  "language_info": {
   "codemirror_mode": {
    "name": "ipython",
    "version": 3
   },
   "file_extension": ".py",
   "mimetype": "text/x-python",
   "name": "python",
   "nbconvert_exporter": "python",
   "pygments_lexer": "ipython3",
   "version": "3.10.7"
  },
  "orig_nbformat": 4
 },
 "nbformat": 4,
 "nbformat_minor": 2
}
