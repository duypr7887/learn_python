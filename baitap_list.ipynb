{
 "cells": [
  {
   "cell_type": "code",
   "execution_count": 1,
   "metadata": {},
   "outputs": [
    {
     "name": "stdout",
     "output_type": "stream",
     "text": [
      "Các phim đã xem:  ['Jame Bond', 'John Wick', 'Fast & Furious', 'The Avenger', 'Iron Man']\n"
     ]
    }
   ],
   "source": [
    "# KHởi tạo list phim đã xem \n",
    "movies_list = [\"Jame Bond\",\n",
    "               \"John Wick\",\n",
    "               \"Fast & Furious\",\n",
    "               \"The Avenger\",\n",
    "               \"Iron Man\"]\n",
    "\n",
    "# List các phim đã xem\n",
    "print(\"Các phim đã xem: \",movies_list)"
   ]
  },
  {
   "cell_type": "code",
   "execution_count": 2,
   "metadata": {},
   "outputs": [],
   "source": [
    "#Sử dụng input để nhập 1 bộ phim ko có trong list\n",
    "new_movie = input(\"Nhập tên bộ phim mới: \")\n",
    "#Thêm phim vừa nhập vào cuối danh sách\n",
    "movies_list.append(new_movie)\n",
    "print(\"Danh sách phim đã xem mới: \", movies_list)"
   ]
  },
  {
   "cell_type": "code",
   "execution_count": 1,
   "metadata": {},
   "outputs": [
    {
     "ename": "NameError",
     "evalue": "name 'movies_list' is not defined",
     "output_type": "error",
     "traceback": [
      "\u001b[1;31m---------------------------------------------------------------------------\u001b[0m",
      "\u001b[1;31mNameError\u001b[0m                                 Traceback (most recent call last)",
      "Cell \u001b[1;32mIn[1], line 2\u001b[0m\n\u001b[0;32m      1\u001b[0m \u001b[39m# In bộ phim đầu tiên trong danh sách\u001b[39;00m\n\u001b[1;32m----> 2\u001b[0m \u001b[39mprint\u001b[39m(\u001b[39mf\u001b[39m\u001b[39m'\u001b[39m\u001b[39mBộ phim đầu tiên trong danh sách: \u001b[39m\u001b[39m{\u001b[39;00mmovies_list[\u001b[39m0\u001b[39m]\u001b[39m}\u001b[39;00m\u001b[39m'\u001b[39m)\n",
      "\u001b[1;31mNameError\u001b[0m: name 'movies_list' is not defined"
     ]
    }
   ],
   "source": [
    "# In bộ phim đầu tiên trong danh sách\n",
    "print(f'Bộ phim đầu tiên trong danh sách: {movies_list[0]}')\n",
    "# In bộ phim cuối cùng trong danh sách\n",
    "print(f'Bộ phim cuối trong danh sách: {movies_list[-1]}')\n",
    "# In bộ phim giữa dannh sách \n",
    "amout = len(movies_list)\n",
    "print = (f'Bộ phim giữa danh sách: {movies_list[amout//2]}')"
   ]
  },
  {
   "cell_type": "code",
   "execution_count": null,
   "metadata": {},
   "outputs": [],
   "source": [
    "# Tổng bộ phim có trong danh sách \n",
    "amout = len(movies_list)\n",
    "print(f\"Tổng bộ phim có trong danh sách: \",amout)"
   ]
  },
  {
   "cell_type": "code",
   "execution_count": null,
   "metadata": {},
   "outputs": [],
   "source": [
    "# Xóa bộ phim đầu tiên\n",
    "del movies_list[0]\n",
    "print(\"Bộ phim đầu tiên đã đc xóa: \",movies_list)\n"
   ]
  },
  {
   "cell_type": "code",
   "execution_count": null,
   "metadata": {},
   "outputs": [],
   "source": [
    "# Xóa bộ phim cuối trong danh sách\n",
    "last_moives_list = movies_list.pop()\n",
    "print(\"Tên bộ phim đã được xóa: \", last_moives_list)\n",
    "print(\"Bộ phim cuối cùng đã được xóa: \", movies_list)"
   ]
  },
  {
   "cell_type": "code",
   "execution_count": null,
   "metadata": {},
   "outputs": [],
   "source": [
    "# Chèn 1 bộ phim bất kỳ vào danh sách\n",
    "movies_list.insert(2,'Avatar')\n",
    "print(movies_list)"
   ]
  },
  {
   "cell_type": "code",
   "execution_count": null,
   "metadata": {},
   "outputs": [],
   "source": [
    "# Đếm số bộ phim có tiêu đề One Piece\n",
    "amout = movies_list.count('One Peice')\n",
    "print(amout)\n"
   ]
  },
  {
   "cell_type": "code",
   "execution_count": null,
   "metadata": {},
   "outputs": [],
   "source": [
    "# đếm vị trí bộ phim ten gió\n",
    "index_of_gio = movies_list('Gió')\n",
    "print(index_of_gio)"
   ]
  },
  {
   "cell_type": "code",
   "execution_count": null,
   "metadata": {},
   "outputs": [],
   "source": [
    "#Thêm vào list 1 danh sách khác\n",
    "movies_list.extend(['Titanic','Cướp biển Caribe','Eo biển xanh'])\n",
    "print(\"Danh sách phim sau khi đã thêm: \",movies_list)"
   ]
  },
  {
   "cell_type": "code",
   "execution_count": null,
   "metadata": {},
   "outputs": [],
   "source": [
    "# Xóa tất cả list\n",
    "movies_list.clear()\n",
    "print(movies_list)"
   ]
  }
 ],
 "metadata": {
  "kernelspec": {
   "display_name": "Python 3",
   "language": "python",
   "name": "python3"
  },
  "language_info": {
   "codemirror_mode": {
    "name": "ipython",
    "version": 3
   },
   "file_extension": ".py",
   "mimetype": "text/x-python",
   "name": "python",
   "nbconvert_exporter": "python",
   "pygments_lexer": "ipython3",
   "version": "3.10.10"
  },
  "orig_nbformat": 4
 },
 "nbformat": 4,
 "nbformat_minor": 2
}
