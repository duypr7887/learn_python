{
 "cells": [
  {
   "cell_type": "code",
   "execution_count": 24,
   "metadata": {},
   "outputs": [
    {
     "name": "stdout",
     "output_type": "stream",
     "text": [
      "Số 3 là số lẻ\n"
     ]
    }
   ],
   "source": [
    "#Kiểm tra số chẳn lẻ\n",
    "n = int(input(\"Nhập vào 1 số: \"))\n",
    "t = n % 2\n",
    "if t == 0:\n",
    "    print(f'Số {n} là số chẳn')\n",
    "else:\n",
    "    print(f'Số {n} là số lẻ')"
   ]
  },
  {
   "cell_type": "code",
   "execution_count": 37,
   "metadata": {},
   "outputs": [
    {
     "name": "stdout",
     "output_type": "stream",
     "text": [
      "Bạn là học sinh trung bình, điểm trung bình của bạn là:  6.9\n"
     ]
    }
   ],
   "source": [
    "#Xếp loại học lực\n",
    "dtb = float(input(\"Nhập vào điểm trung bình: \"))\n",
    "if dtb >= 9:\n",
    "    print('Bạn là học sinh giỏi, điểm trung bình của bạn là: ',dtb)\n",
    "elif dtb >= 7 and dtb < 9:\n",
    "    print('Bạn là học sinh khá, điểm trung bình của bạn là: ',dtb)\n",
    "elif dtb >= 6 and dtb >= 5:\n",
    "    print('Bạn là học sinh trung bình, điểm trung bình của bạn là: ',dtb)\n",
    "else :\n",
    "    print('Bạn là học sinh kém, điểm trung bình của bạn là: ',dtb)\n"
   ]
  },
  {
   "cell_type": "code",
   "execution_count": 42,
   "metadata": {},
   "outputs": [
    {
     "name": "stdout",
     "output_type": "stream",
     "text": [
      "Năm 2020 nhuận\n"
     ]
    }
   ],
   "source": [
    "# Kiểm tra năm nhuận\n",
    "year = int(input('Nhập vào số năm cần kiểm tra: '))\n",
    "if (year % 4 == 0 and year % 100 != 0) or year % 400 == 0:\n",
    "    print(f'Năm {year} nhuận')\n",
    "else:\n",
    "    print(f'Năm {year} không nhuận')\n",
    "\n"
   ]
  },
  {
   "cell_type": "code",
   "execution_count": 44,
   "metadata": {},
   "outputs": [
    {
     "name": "stdout",
     "output_type": "stream",
     "text": [
      "Tháng 4 có 30 ngày\n"
     ]
    }
   ],
   "source": [
    "#Kiểm tra số ngày trong tháng\n",
    "month = int(input('Nhập số tháng cần kiểm tra: '))\n",
    "if month in (1,3,5,7,8,10,12):\n",
    "    print(f'Tháng {month} có 31 ngày')\n",
    "elif month in (4,6,9,11):\n",
    "    print(f'Tháng {month} có 30 ngày')\n",
    "elif month == 2:\n",
    "    year = int(input(\"Nhập vào số năm: \"))\n",
    "    if (year % 4 == 0 and year % 100 != 0) or year % 400 == 0:\n",
    "        print(f'Tháng {month} năm {year} có 29 ngày')\n",
    "    else:\n",
    "        print(f'Tháng {month} năm {year} có 28 ngày')\n",
    "else:\n",
    "    print(\"Bạn đã nhập sai tháng, vui lòng thử lại\")\n"
   ]
  },
  {
   "cell_type": "code",
   "execution_count": 18,
   "metadata": {},
   "outputs": [
    {
     "name": "stdout",
     "output_type": "stream",
     "text": [
      "Tháng 4 thuộc quý 2\n"
     ]
    }
   ],
   "source": [
    "#Kiểm tra tháng thuộc quý mấy \n",
    "n = int(input(\"Nhập vào số tháng\"))\n",
    "if n in (1,2,3):\n",
    "    print(f'Tháng {n} thuộc 1')\n",
    "elif n in (4,5,6):\n",
    "    print(f'Tháng {n} thuộc quý 2')\n",
    "elif n in (7,8,9):\n",
    "    print(f'Tháng {n} thuộc quý 3')\n",
    "elif n in (10,11,12):\n",
    "    print (f'Tháng {n} thuộc quý 3')\n",
    "else:\n",
    "    print(\"Bạn đã nhập số tháng, vui lòng nhập lại\")"
   ]
  },
  {
   "cell_type": "code",
   "execution_count": 47,
   "metadata": {},
   "outputs": [
    {
     "name": "stdout",
     "output_type": "stream",
     "text": [
      "Phương có có 2 nghiệm khác biệt\n",
      "Nghiệm x1 là:  -6.127718676730986\n",
      "Nghiệm x2 là:  -11.872281323269014\n"
     ]
    }
   ],
   "source": [
    "#Giải phương trình bậc 2: ax^2 + bx + c = 0\n",
    "# Tính delta, delta = b^2 - 4ac\n",
    "#so sánh delta với 0:\n",
    " #delta < 0 = phươn trình vô nghiệm\n",
    " #delta = 0 = phương trình có 1 nghiệm x1 = x2 = -b/2a\n",
    " #delta > 0 = phương trình có 2 nghiệm x1 = -b + Căn delta/2a, x2= -b - Căn delta/2a\n",
    "\n",
    "from math import sqrt\n",
    "a = float(input(\"Nhập vào giá trị a của phương trình: \"))\n",
    "b = float(input(\"Nhập vào giá trị b của phương trình: \"))\n",
    "c = float(input(\"Nhập vào giá trị c của phương trình: \"))\n",
    "\n",
    "delta = (b**2) - (4*a*c)\n",
    "\n",
    "if delta < 0:\n",
    "    print(\"Phương trình vô nghiệm\")\n",
    "elif delta == 0:\n",
    "    print('Phương trình có 1 nghiệm kép: ',  -b/(2*a))\n",
    "else:\n",
    "    print('Phương có có 2 nghiệm khác biệt')\n",
    "    x1 = (-b + sqrt(delta)/2*a)\n",
    "    x2 = (-b - sqrt(delta)/2*a)\n",
    "    print('Nghiệm x1 là: ',x1)\n",
    "    print('Nghiệm x2 là: ',x2)\n",
    "    "
   ]
  }
 ],
 "metadata": {
  "kernelspec": {
   "display_name": "Python 3",
   "language": "python",
   "name": "python3"
  },
  "language_info": {
   "codemirror_mode": {
    "name": "ipython",
    "version": 3
   },
   "file_extension": ".py",
   "mimetype": "text/x-python",
   "name": "python",
   "nbconvert_exporter": "python",
   "pygments_lexer": "ipython3",
   "version": "3.10.7"
  },
  "orig_nbformat": 4
 },
 "nbformat": 4,
 "nbformat_minor": 2
}
