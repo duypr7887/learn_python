{
 "cells": [
  {
   "cell_type": "code",
   "execution_count": 1,
   "metadata": {},
   "outputs": [
    {
     "name": "stdout",
     "output_type": "stream",
     "text": [
      "Đây là số lẻ\n"
     ]
    }
   ],
   "source": [
    "#Kiểm tra số chẳn lẻ\n",
    "n = int(input('Nhập vào một số: '))\n",
    "check = n % 2\n",
    "if check == 0:\n",
    "    print (\"Đây là số chẳn\")\n",
    "else:\n",
    "    print(\"Đây là số lẻ\")"
   ]
  },
  {
   "cell_type": "code",
   "execution_count": 4,
   "metadata": {},
   "outputs": [
    {
     "name": "stdout",
     "output_type": "stream",
     "text": [
      "Bạn là học sinh khá  6.9\n"
     ]
    }
   ],
   "source": [
    "#Xếp loại học lực\n",
    "dtb = float(input('Nhập vào điểm trung bình: '))\n",
    "if dtb >= 9:\n",
    "    print (\"Bạn là học sinh giỏi \",dtb)\n",
    "elif dtb <= 7 and dtb < 9:\n",
    "        print (\"Bạn là học sinh khá \",dtb)\n",
    "elif dtb < 6 and dtb >= 5:\n",
    "        print(\"Bạn là học sinh trung bình \",dtb)\n",
    "else:\n",
    "    print(\"Bạn là học sinh yếu \",dtb)"
   ]
  },
  {
   "cell_type": "code",
   "execution_count": 10,
   "metadata": {},
   "outputs": [
    {
     "name": "stdout",
     "output_type": "stream",
     "text": [
      "2000 đây là năm nhuận\n"
     ]
    }
   ],
   "source": [
    "# Kiểm tra năm nhuận\n",
    "n = int(input('Nhập vào một năm: '))\n",
    "if (n % 4 == 0 and n % 100 != 0) or n % 400 == 0:\n",
    "    print (n, \"đây là năm nhuận\")\n",
    "else:\n",
    "    print(n, \"đây là năm không nhuận\")\n",
    "\n"
   ]
  },
  {
   "cell_type": "code",
   "execution_count": 16,
   "metadata": {},
   "outputs": [
    {
     "name": "stdout",
     "output_type": "stream",
     "text": [
      "Bạn đã nhập sai tháng, vui lòng nhập lại\n"
     ]
    }
   ],
   "source": [
    "#Kiểm tra số ngày trong tháng\n",
    "n = int(input(\"Nhập vào số tháng: \"))\n",
    "if n in (1,3,5,7,8,10,12):\n",
    "    print(f'Tháng {n} có 31 ngày')\n",
    "elif n in (4,6,9,11):\n",
    "    print(f'Tháng {n} có 30 ngày')\n",
    "elif n == 2:\n",
    "    nam = int(input(\"Nhập vào số năm: \"))\n",
    "    if (nam  % 4 == 0 and nam % 100 != 0) or nam % 400 == 0:\n",
    "        print (f'Tháng {n} có 29 ngày')\n",
    "    else:\n",
    "        print(f'Tháng {n} năm {nam} có 28 ngày')\n",
    "else:\n",
    "    print(\"Bạn đã nhập sai tháng, vui lòng nhập lại\")"
   ]
  },
  {
   "cell_type": "code",
   "execution_count": 18,
   "metadata": {},
   "outputs": [
    {
     "name": "stdout",
     "output_type": "stream",
     "text": [
      "Tháng 4 thuộc quý 2\n"
     ]
    }
   ],
   "source": [
    "#Kiểm tra tháng thuộc quý mấy \n",
    "n = int(input(\"Nhập vào số tháng\"))\n",
    "if n in (1,2,3):\n",
    "    print(f'Tháng {n} thuộc 1')\n",
    "elif n in (4,5,6):\n",
    "    print(f'Tháng {n} thuộc quý 2')\n",
    "elif n in (7,8,9):\n",
    "    print(f'Tháng {n} thuộc quý 3')\n",
    "elif n in (10,11,12):\n",
    "    print (f'Tháng {n} thuộc quý 3')\n",
    "else:\n",
    "    print(\"Bạn đã nhập số tháng, vui lòng nhập lại\")"
   ]
  },
  {
   "cell_type": "code",
   "execution_count": 23,
   "metadata": {},
   "outputs": [
    {
     "name": "stdout",
     "output_type": "stream",
     "text": [
      "Chương trình giải phương trình bậc 2\n",
      "Phương trình có 2 nghiệm phân biệt: \n",
      "x1=  -4.75\n",
      "x2=  -5.25\n"
     ]
    }
   ],
   "source": [
    "#Giải phương trình bậc 2: ax^2 + bx + c = 0\n",
    "# Tính delta, delta = b^2 - 4ac\n",
    "#so sánh delta với 0:\n",
    " #delta < 0 = phươn trình vô nghiệm\n",
    " #delta = 0 = phương trình có 1 nghiệm x1 = x2 = -b/2a\n",
    " #delta > 0 = phương trình có 2 nghiệm x1 = -b + Căn delta/2a, x2= -b - Căn delta/2a\n",
    "\n",
    "from math import sqrt # import để hiểu hàm sqrt\n",
    "print ('Chương trình giải phương trình bậc 2')\n",
    "a = float(input('Nhập vào giá trị của a trong biểu thức: '))\n",
    "b = float(input('Nhập vào giá trị của b trong biểu thức: '))\n",
    "c = float(input('Nhập vào giá trị của c trong biểu thức: '))\n",
    "\n",
    "#Với a khác 0\n",
    "delta = (b**2) - (4*a*c)\n",
    "\n",
    "if delta < 0:\n",
    "    print(\"Phương trình vô nghiệm\")\n",
    "elif delta == 0:\n",
    "    print(\"Phương trình có nghiệm kép x1 = x2: \",  -b / (2*a))\n",
    "else:\n",
    "    print(\"Phương trình có 2 nghiệm phân biệt: \") \n",
    "    x1 = (-b + sqrt(delta)/(2*a)) \n",
    "    x2 = (-b - sqrt(delta)/(2*a))\n",
    "    print ('x1= ',x1)\n",
    "    print ('x2= ',x2)"
   ]
  }
 ],
 "metadata": {
  "kernelspec": {
   "display_name": "Python 3",
   "language": "python",
   "name": "python3"
  },
  "language_info": {
   "codemirror_mode": {
    "name": "ipython",
    "version": 3
   },
   "file_extension": ".py",
   "mimetype": "text/x-python",
   "name": "python",
   "nbconvert_exporter": "python",
   "pygments_lexer": "ipython3",
   "version": "3.10.7"
  },
  "orig_nbformat": 4
 },
 "nbformat": 4,
 "nbformat_minor": 2
}
