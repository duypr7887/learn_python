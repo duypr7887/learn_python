{
 "cells": [
  {
   "cell_type": "code",
   "execution_count": 1,
   "metadata": {},
   "outputs": [
    {
     "name": "stdout",
     "output_type": "stream",
     "text": [
      "Số bạn vừa nhập là: 99\n"
     ]
    }
   ],
   "source": [
    "#Vòng lặp while\n",
    "n = int(input(\"Nhập vào 1 số từ 1 đến 99: \"))\n",
    "while n <= 0 or n > 99:\n",
    "    n = int(input(\"Bạn đã nhập sai, vui lòng nhập lại từ 1 đến 99: \"))\n",
    "print(f'Số bạn vừa nhập là: {n}')"
   ]
  },
  {
   "cell_type": "code",
   "execution_count": 3,
   "metadata": {},
   "outputs": [
    {
     "name": "stdout",
     "output_type": "stream",
     "text": [
      "Học sinh duy, học môn toán , có số điểm 4.5\n",
      "Học sinh duy xếp loại KHÔNG ĐẠT với số điểm 4.5\n"
     ]
    }
   ],
   "source": [
    "# while, else break\n",
    "# Viết chương trình chọn đội tuyển học sinh giỏi:\n",
    "    #Nhập vào:\n",
    "        # Họ và tên học sinh(hten)\n",
    "        # Môn dự thi (mhoc)\n",
    "        # Điểm (diem)\n",
    "    # In ra mà hình học sinh được chọn, nếu điểm môn sự thi từ 7 trở lên thì đủ đk. lặp lại với học sinh khác cho đến khi gõ N thì kết thúc.\n",
    "\n",
    "while True:\n",
    "    hten = input(\"Nhập tên học sinh: \")\n",
    "    mhoc = input(\"Nhập tên môn học: \")\n",
    "    diem = float(input(\"Nhập điểm: \"))\n",
    "    print(f'Học sinh {hten}, học môn {mhoc}, có số điểm {diem}')\n",
    "    if diem >= 7:\n",
    "        print(f'Học sinh {hten} xếp loại ĐẠT với số điểm {diem}')\n",
    "    else:\n",
    "        print(f'Học sinh {hten} xếp loại KHÔNG ĐẠT với số điểm {diem}')\n",
    "    thoat = input('Nhấn n hoặc N để thoát, nhấn phím bất kỳ để tiếp tục')\n",
    "    if thoat == \"n\" or thoat == \"N\":\n",
    "        break"
   ]
  },
  {
   "cell_type": "code",
   "execution_count": null,
   "metadata": {},
   "outputs": [],
   "source": []
  },
  {
   "cell_type": "code",
   "execution_count": null,
   "metadata": {},
   "outputs": [],
   "source": []
  }
 ],
 "metadata": {
  "kernelspec": {
   "display_name": "Python 3",
   "language": "python",
   "name": "python3"
  },
  "language_info": {
   "codemirror_mode": {
    "name": "ipython",
    "version": 3
   },
   "file_extension": ".py",
   "mimetype": "text/x-python",
   "name": "python",
   "nbconvert_exporter": "python",
   "pygments_lexer": "ipython3",
   "version": "3.10.7"
  },
  "orig_nbformat": 4
 },
 "nbformat": 4,
 "nbformat_minor": 2
}
